{
  "nbformat": 4,
  "nbformat_minor": 0,
  "metadata": {
    "colab": {
      "provenance": [],
      "authorship_tag": "ABX9TyN9i3nGuLdw5JITvNYQ2pNb",
      "include_colab_link": true
    },
    "kernelspec": {
      "name": "python3",
      "display_name": "Python 3"
    },
    "language_info": {
      "name": "python"
    }
  },
  "cells": [
    {
      "cell_type": "markdown",
      "metadata": {
        "id": "view-in-github",
        "colab_type": "text"
      },
      "source": [
        "<a href=\"https://colab.research.google.com/github/Zarate73/Simulaci-n-/blob/main/Producto_Medio.ipynb\" target=\"_parent\"><img src=\"https://colab.research.google.com/assets/colab-badge.svg\" alt=\"Open In Colab\"/></a>"
      ]
    },
    {
      "cell_type": "markdown",
      "source": [
        "# Método del producto medio\n",
        "\n",
        "Este método es uno de los mas sencillo para la generacion de números pseudo aleatorios el cual funciona de la siguiente manera:\n",
        "\n",
        "* Se eligen como valor dos semillas de más de 3 dígitos (t=cantidad de dígitos del valor semilla)\n",
        "* Se multlplican las semillas.\n",
        "* Al valor que resultó, seleccione los t dígitos de en medio (si se requiere, utilice un 0 como primer dígito).\n",
        "* Repetir desde el paso número 2 tomando éste nuevo número.\n",
        "\n",
        "  A continuación se muestra la implementación en phyton del método.\n"
      ],
      "metadata": {
        "id": "kQ5dy8BLRdiM"
      }
    },
    {
      "cell_type": "code",
      "source": [
        "import pandas as pd\n",
        "\n",
        "def po_me(x1, x2, max_val):\n",
        "    N = []  # Contiene las iteraciones\n",
        "    X = []  # Contiene los números pseudoaleatorios\n",
        "    X1 = []  # Contiene la primera semilla\n",
        "    X2 = []  # Contiene la segunda semilla\n",
        "    Xp = []  # Contiene el producto de los números\n",
        "    n = len(str(x1))  # Extrae la cantidad de dígitos que se van a tomar en cuenta al cuadrado medio\n",
        "    y = 0\n",
        "    prod1 = x1 * x2  # Producto inicial\n",
        "\n",
        "    for i in range(1, max_val + 1):\n",
        "        y += 1\n",
        "        X1.append(x1)\n",
        "        X2.append(x2)\n",
        "        N.append(y)\n",
        "        prod = x1 * x2\n",
        "        Xp.append(prod)\n",
        "\n",
        "        # Extrae los dígitos centrales\n",
        "        x_str = str(prod)  # Pasa la cadena del número al cuadrado.\n",
        "        x_str_length = len(x_str)\n",
        "\n",
        "        # Si la longitud de la cadena del producto es menor que los dígitos deseados, se agregan ceros a la izquierda\n",
        "        if x_str_length < n * 2:\n",
        "            x_str = x_str.zfill(n * 2)\n",
        "\n",
        "        start_index = (x_str_length - n) // 2\n",
        "        end_index = start_index + n\n",
        "        x_central_digits = x_str[start_index:end_index]\n",
        "\n",
        "        # Verifica si los dígitos centrales son todos cero, de serlo, se rompe el ciclo para evitar errores\n",
        "        if x_central_digits == '0' * n:\n",
        "            break\n",
        "\n",
        "        # Convierte los dígitos centrales a número\n",
        "        x = int(x_central_digits)\n",
        "        X.append(x)\n",
        "\n",
        "        # Actualizamos las semillas\n",
        "        x1 = x2\n",
        "        x2 = x\n",
        "\n",
        "        # Condición de paro para evitar que no se cicle\n",
        "        if i > 1:\n",
        "            if prod == prod1:\n",
        "                break\n",
        "\n",
        "    H = list(zip(N, X1, X2, Xp))\n",
        "    Table = pd.DataFrame(H, columns=[\"n\", \"X1\", \"X2\", \"Producto\"])\n",
        "\n",
        "    return Table\n",
        "\n"
      ],
      "metadata": {
        "id": "MemPaFaKR4vw"
      },
      "execution_count": 4,
      "outputs": []
    },
    {
      "cell_type": "code",
      "source": [
        "# Ejemplo de uso\n",
        "x1 = 1234\n",
        "x2 = 5678\n",
        "max_val = 100\n",
        "\n",
        "resultados = po_me(x1, x2, max_val)\n",
        "print(\"Tabla de resultados:\")\n",
        "print(resultados)"
      ],
      "metadata": {
        "colab": {
          "base_uri": "https://localhost:8080/"
        },
        "id": "VeJ9PIywR-9f",
        "outputId": "53648678-d72d-4c94-efcd-07006a178185"
      },
      "execution_count": 5,
      "outputs": [
        {
          "output_type": "stream",
          "name": "stdout",
          "text": [
            "Tabla de resultados:\n",
            "      n    X1    X2  Producto\n",
            "0     1  1234  5678   7006652\n",
            "1     2  5678  7006  39780068\n",
            "2     3  7006  7800  54646800\n",
            "3     4  7800  6468  50450400\n",
            "4     5  6468  4504  29131872\n",
            "..  ...   ...   ...       ...\n",
            "95   96  2962  2105   6235010\n",
            "96   97  2105  6235  13124675\n",
            "97   98  6235  1246   7768810\n",
            "98   99  1246  7768   9678928\n",
            "99  100  7768  9678  75178704\n",
            "\n",
            "[100 rows x 4 columns]\n"
          ]
        }
      ]
    }
  ]
}