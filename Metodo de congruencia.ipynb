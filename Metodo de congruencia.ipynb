{
  "nbformat": 4,
  "nbformat_minor": 0,
  "metadata": {
    "colab": {
      "provenance": [],
      "authorship_tag": "ABX9TyPCMS0h+d0S648mqLYXNIas",
      "include_colab_link": true
    },
    "kernelspec": {
      "name": "python3",
      "display_name": "Python 3"
    },
    "language_info": {
      "name": "python"
    }
  },
  "cells": [
    {
      "cell_type": "markdown",
      "metadata": {
        "id": "view-in-github",
        "colab_type": "text"
      },
      "source": [
        "<a href=\"https://colab.research.google.com/github/Zarate73/Simulaci-n-/blob/main/Metodo%20de%20congruencia.ipynb\" target=\"_parent\"><img src=\"https://colab.research.google.com/assets/colab-badge.svg\" alt=\"Open In Colab\"/></a>"
      ]
    },
    {
      "cell_type": "code",
      "source": [
        "\n",
        "import numpy as np\n",
        "\n",
        "#Metodo de congruencia (Generacion de numeros aleatorios)\n",
        "x0=6\n",
        "m=28\n",
        "a=5\n",
        "c=5\n",
        "n=20\n",
        "k=[None]* n\n",
        "\n",
        "\n",
        "\n",
        "\n",
        "xn=x0\n",
        "for i in range(n):\n",
        "\n",
        "  g=a*xn + c\n",
        "  mod=g % m\n",
        "  xn=mod\n",
        "  print(xn)\n",
        "  XR=xn/m\n",
        "  k[i]=XR\n",
        "\n",
        "k = np.array(k)\n",
        "p=k.T\n",
        "\n",
        "print(p)\n",
        "\n",
        "\n",
        "\n",
        "#NOTA: se cicla en el 16 con los valores de m=16, x0=6, a=5, c=5\n",
        "#      con a=50; te dan los valores del 4->n se repiten\n",
        "\n",
        "#Se cicla cuando el Xi = a la semilla\n"
      ],
      "metadata": {
        "colab": {
          "base_uri": "https://localhost:8080/"
        },
        "id": "pSj4LTDv6UPJ",
        "outputId": "66babacf-0752-4cc0-9899-0f2b884717d7"
      },
      "execution_count": 70,
      "outputs": [
        {
          "output_type": "stream",
          "name": "stdout",
          "text": [
            "7\n",
            "12\n",
            "9\n",
            "22\n",
            "3\n",
            "20\n",
            "21\n",
            "26\n",
            "23\n",
            "8\n",
            "17\n",
            "6\n",
            "7\n",
            "12\n",
            "9\n",
            "22\n",
            "3\n",
            "20\n",
            "21\n",
            "26\n",
            "[0.25       0.42857143 0.32142857 0.78571429 0.10714286 0.71428571\n",
            " 0.75       0.92857143 0.82142857 0.28571429 0.60714286 0.21428571\n",
            " 0.25       0.42857143 0.32142857 0.78571429 0.10714286 0.71428571\n",
            " 0.75       0.92857143]\n"
          ]
        }
      ]
    }
  ]
}