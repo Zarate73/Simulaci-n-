{
  "nbformat": 4,
  "nbformat_minor": 0,
  "metadata": {
    "colab": {
      "provenance": [],
      "authorship_tag": "ABX9TyN+F3itKgEn5q6iJ3aMxyaj",
      "include_colab_link": true
    },
    "kernelspec": {
      "name": "python3",
      "display_name": "Python 3"
    },
    "language_info": {
      "name": "python"
    }
  },
  "cells": [
    {
      "cell_type": "markdown",
      "metadata": {
        "id": "view-in-github",
        "colab_type": "text"
      },
      "source": [
        "<a href=\"https://colab.research.google.com/github/Zarate73/Simulaci-n-/blob/main/Prueba_chi2.ipynb\" target=\"_parent\"><img src=\"https://colab.research.google.com/assets/colab-badge.svg\" alt=\"Open In Colab\"/></a>"
      ]
    },
    {
      "cell_type": "code",
      "execution_count": 12,
      "metadata": {
        "colab": {
          "base_uri": "https://localhost:8080/"
        },
        "id": "fD9Imbqoee2D",
        "outputId": "5a7d044e-1b03-4265-d267-1f054dc96c8b"
      },
      "outputs": [
        {
          "output_type": "stream",
          "name": "stdout",
          "text": [
            "Requirement already satisfied: pandas in /usr/local/lib/python3.10/dist-packages (1.5.3)\n",
            "Requirement already satisfied: python-dateutil>=2.8.1 in /usr/local/lib/python3.10/dist-packages (from pandas) (2.8.2)\n",
            "Requirement already satisfied: pytz>=2020.1 in /usr/local/lib/python3.10/dist-packages (from pandas) (2023.4)\n",
            "Requirement already satisfied: numpy>=1.21.0 in /usr/local/lib/python3.10/dist-packages (from pandas) (1.25.2)\n",
            "Requirement already satisfied: six>=1.5 in /usr/local/lib/python3.10/dist-packages (from python-dateutil>=2.8.1->pandas) (1.16.0)\n",
            "Requirement already satisfied: numpy in /usr/local/lib/python3.10/dist-packages (1.25.2)\n",
            "Requirement already satisfied: scipy in /usr/local/lib/python3.10/dist-packages (1.11.4)\n",
            "Requirement already satisfied: numpy<1.28.0,>=1.21.6 in /usr/local/lib/python3.10/dist-packages (from scipy) (1.25.2)\n",
            "               Frecuencia  Frecuencia esperada  (F-Fe)  Chi\n",
            "0<= xn <0.2           6.0                 10.0    -4.0  1.6\n",
            "0.2<= x <0. 4        12.0                 10.0     2.0  0.4\n",
            "0.4<= x <0. 6        13.0                 10.0     3.0  0.9\n",
            "0.6<= x <0. 8         7.0                 10.0    -3.0  0.9\n",
            "0.8<= x <1           12.0                 10.0     2.0  0.4\n",
            "Chi-square test statistic: 2.284352476168333\n",
            "p-value: 0.6836193705232143\n",
            "Resultado de la prueba de bondad 0\n"
          ]
        }
      ],
      "source": [
        "!pip install pandas\n",
        "!pip install numpy\n",
        "!pip install scipy\n",
        "\n",
        "import pandas as pd\n",
        "import numpy as np\n",
        "from scipy.stats import chi2_contingency\n",
        "\n",
        "def Prueba_chi(V,cl,alpha):\n",
        "\n",
        "\n",
        "    B = []\n",
        "    Chi = []\n",
        "    h = 1/cl\n",
        "    clases = np.arange(0, 1+h, h)\n",
        "    F = np.zeros(cl)\n",
        "\n",
        "\n",
        "\n",
        "    F_e = (len(V) / cl) * np.ones(cl)\n",
        "    for i in range(len(clases)-1):\n",
        "        F[i] = np.sum(np.logical_and(V >= clases[i], V < clases[i+1]))\n",
        "        B.append(F[i] - F_e[i])\n",
        "        Chi.append((B[i]**2) / F_e[i])\n",
        "\n",
        "    U = np.column_stack((F, F_e, B, Chi))\n",
        "    T_Frecuencias = pd.DataFrame(U, columns=[\"Frecuencia\", \"Frecuencia esperada\", \"(F-Fe)\", \"Chi\"],\n",
        "                                 index=[\"0<= xn <0.2\", \"0.2<= x <0. 4\", \"0.4<= x <0. 6\", \"0.6<= x <0. 8\", \"0.8<= x <1\"])\n",
        "\n",
        "    chi2_stat, p = chi2_contingency(np.array([F, F_e]))[0:2]\n",
        "\n",
        "\n",
        "    if p < alpha:\n",
        "      x=1\n",
        "\n",
        "    else:\n",
        "\n",
        "       x=0\n",
        "\n",
        "\n",
        "\n",
        "    return  T_Frecuencias,chi2_stat, p, x\n",
        "\n",
        "\n",
        "V = [0.8797, 0.3884, 0.6289, 0.8750, 0.5999, 0.8589, 0.9996, 0.2415, 0.3808, 0.9606, 0.9848, 0.3469, 0.7977, 0.5844, 0.8147, 0.6431, 0.7387, 0.5613, 0.0318, 0.7401, 0.4557, 0.1592, 0.8536, 0.8846, 0.3410, 0.1492, 0.8681, 0.5291, 0.3188, 0.5992, 0.9170, 0.2204, 0.5991, 0.5461, 0.5739, 0.3254, 0.0856, 0.2258, 0.4603, 0.5027, 0.8376, 0.6235, 0.3681, 0.2088, 0.1525, 0.2006, 0.4720, 0.4272, 0.6360, 0.0954]\n",
        "\n",
        "T_Frecuencias, chi2_stat, p, x = Prueba_chi(V,5,0.01)\n",
        "\n",
        "print(T_Frecuencias)\n",
        "print(\"Chi-square test statistic:\", chi2_stat)\n",
        "print(\"p-value:\", p)\n",
        "print(\"Resultado de la prueba de bondad\",x)\n",
        "\n",
        "\n",
        "\n",
        "\n",
        "\n",
        "\n",
        "\n"
      ]
    }
  ]
}