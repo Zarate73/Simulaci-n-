{
  "nbformat": 4,
  "nbformat_minor": 0,
  "metadata": {
    "colab": {
      "provenance": [],
      "authorship_tag": "ABX9TyOSQCMF+ESI32XnmNYbeG+V",
      "include_colab_link": true
    },
    "kernelspec": {
      "name": "python3",
      "display_name": "Python 3"
    },
    "language_info": {
      "name": "python"
    }
  },
  "cells": [
    {
      "cell_type": "markdown",
      "metadata": {
        "id": "view-in-github",
        "colab_type": "text"
      },
      "source": [
        "<a href=\"https://colab.research.google.com/github/Zarate73/Simulaci-n-/blob/main/Prueba_chi2.ipynb\" target=\"_parent\"><img src=\"https://colab.research.google.com/assets/colab-badge.svg\" alt=\"Open In Colab\"/></a>"
      ]
    },
    {
      "cell_type": "code",
      "execution_count": 32,
      "metadata": {
        "colab": {
          "base_uri": "https://localhost:8080/"
        },
        "id": "fD9Imbqoee2D",
        "outputId": "f29d0971-d755-4161-abe3-429a3f70b8d7"
      },
      "outputs": [
        {
          "output_type": "stream",
          "name": "stdout",
          "text": [
            "               Frecuencia  Frecuencia esperada  (F-Fe)  Chi\n",
            "0<= xn <0.2           6.0                 10.0    -4.0  1.6\n",
            "0.2<= x <0. 4        12.0                 10.0     2.0  0.4\n",
            "0.4<= x <0. 6        13.0                 10.0     3.0  0.9\n",
            "0.6<= x <0. 8         7.0                 10.0    -3.0  0.9\n",
            "0.8<= x <1           12.0                 10.0     2.0  0.4\n",
            "Chi-square test statistic: 2.284352476168333\n",
            "p-value: 0.6836193705232143\n",
            "Resultado de la prueba de bondad: 0\n"
          ]
        }
      ],
      "source": [
        "#!pip install pandas\n",
        "#!pip install numpy\n",
        "#!pip install scipy\n",
        "\n",
        "import pandas as pd\n",
        "import numpy as np\n",
        "from scipy.stats import chi2_contingency\n",
        "from scipy import stats\n",
        "\n",
        "def Prueba_chi(V,cl,alpha):\n",
        "\n",
        "\n",
        "    B = []\n",
        "    Chi = []\n",
        "    h = 1/cl\n",
        "    clases = np.arange(0, 1+h, h)\n",
        "    F = np.zeros(cl)\n",
        "\n",
        "\n",
        "\n",
        "    F_e = (len(V) / cl) * np.ones(cl)\n",
        "    for i in range(len(clases)-1):\n",
        "        F[i] = np.sum(np.logical_and(V >= clases[i], V < clases[i+1]))\n",
        "        B.append(F[i] - F_e[i])\n",
        "        Chi.append((B[i]**2) / F_e[i])\n",
        "\n",
        "    U = np.column_stack((F, F_e, B, Chi))\n",
        "    T_Frecuencias = pd.DataFrame(U, columns=[\"Frecuencia\", \"Frecuencia esperada\", \"(F-Fe)\", \"Chi\"],\n",
        "                                 index=[\"0<= xn <0.2\", \"0.2<= x <0. 4\", \"0.4<= x <0. 6\", \"0.6<= x <0. 8\", \"0.8<= x <1\"])\n",
        "\n",
        "    chi2_stat, p = chi2_contingency(np.array([F, F_e]))[0:2] #p es la probalidad de la cola izquierda\n",
        "\n",
        "\n",
        "    if p < alpha:\n",
        "\n",
        "      x=1 #Se rechaza la hipotesis nula\n",
        "\n",
        "    else:\n",
        "\n",
        "       x=0 #Se acepta la hipotesis nula\n",
        "\n",
        "\n",
        "\n",
        "\n",
        "\n",
        "\n",
        "    return  T_Frecuencias,chi2_stat, p, x\n",
        "\n",
        "\n",
        "V = [0.8797, 0.3884, 0.6289, 0.8750, 0.5999, 0.8589, 0.9996, 0.2415, 0.3808, 0.9606, 0.9848, 0.3469, 0.7977, 0.5844, 0.8147, 0.6431, 0.7387, 0.5613, 0.0318, 0.7401, 0.4557, 0.1592, 0.8536, 0.8846, 0.3410, 0.1492, 0.8681, 0.5291, 0.3188, 0.5992, 0.9170, 0.2204, 0.5991, 0.5461, 0.5739, 0.3254, 0.0856, 0.2258, 0.4603, 0.5027, 0.8376, 0.6235, 0.3681, 0.2088, 0.1525, 0.2006, 0.4720, 0.4272, 0.6360, 0.0954]\n",
        "\n",
        "T_Frecuencias, chi2_stat, p, x = Prueba_chi(V,5,0.05)\n",
        "\n",
        "print(T_Frecuencias)\n",
        "print(\"Chi-square test statistic:\", chi2_stat)\n",
        "print(\"p-value:\", p)\n",
        "print(\"Resultado de la prueba de bondad:\",x)\n",
        "\n",
        "\n",
        "\n",
        "\n",
        "\n",
        "\n",
        "\n"
      ]
    },
    {
      "cell_type": "code",
      "source": [
        "import pandas as pd\n",
        "import numpy as np\n",
        "from scipy.stats import chi2, chi2_contingency\n",
        "\n",
        "def prueba_chi(V, k, alpha):\n",
        "    B = []\n",
        "    Chi = []\n",
        "    h = 1 / k\n",
        "    clases = np.arange(0, 1+h, h)\n",
        "    F = np.zeros(k)\n",
        "    F_e = (len(V) / k) * np.ones(k)\n",
        "\n",
        "    for i in range(len(clases)-1):\n",
        "        F[i] = np.sum(np.logical_and(V >= clases[i], V < clases[i+1]))\n",
        "        B.append(F[i] - F_e[i])\n",
        "        Chi.append((B[i]**2) / F_e[i])\n",
        "\n",
        "    q = np.sum(Chi) # VALOR CRITICO CALCULADO O PERCENTIL\n",
        "    chi2_cutoff = chi2.ppf(1 - alpha, k-1) # Se calcula el percentil de la distribucion chi cuadrada para comparar con el valor teorico calculado\n",
        "\n",
        "    if q > chi2_cutoff:\n",
        "        print(\"Se rechaza la hipotesis\")\n",
        "    else:\n",
        "        print(\"Se acepta la hipotesis\")\n",
        "\n",
        "    U = np.column_stack((F, F_e, B, Chi))\n",
        "    T_Frecuencias = pd.DataFrame(U, columns=[\"Frecuencia\", \"Frecuencia esperada\", \"(F-Fe)\", \"Chi\"],\n",
        "                                 index=[\"0<= xn <0.2\", \"0.2<= x <0.4\", \"0.4<= x <0.6\", \"0.6<= x <0.8\", \"0.8<= x <1\"])\n",
        "\n",
        "    return T_Frecuencias\n",
        "\n",
        "# Ejemplo de uso\n",
        "V = V=[0.78 0.98 0.24 0.73 0.43 0.16 0.78 0.47 0.18 0.55 0.04 0.29 0.68 0.77 0.16 0.03 0.79 0.22 0.37 0.80 0.96 0.26 0.91 0.55 0.75 0.55 0.64 0.39 0.53 0.45 0.61 0.14 0.38 0.12 0.40 0.74 0.78 0.98 0.27 0.60 0.43 0.67 0.62 0.32 0.53 0.54 0.24 0.29 0.18 0.08 0.82 0.94 0.19 0.98 0.41 1.00 0.74 0.92 0.14 0.43 0.83 0.88 0.18 0.21 0.50 0.13 0.43 0.69 0.08 0.12 0.22 0.50 0.16 0.11 0.18 0.89 0.80 0.42 0.29 0.87 0.83 0.79 0.65 0.28 0.78 0.49 0.36 0.86 0.87 0.64 0.51 0.07 0.18 0.94 0.50 0.22 0.66 0.91 0.48 0.24]\n",
        "T_Frecuencias = prueba_chi(V, 5, 0.05)\n",
        "print(T_Frecuencias)"
      ],
      "metadata": {
        "colab": {
          "base_uri": "https://localhost:8080/"
        },
        "id": "Kkmqt8de49Ds",
        "outputId": "c71b9775-c019-489d-e9e9-6111583aa52e"
      },
      "execution_count": 31,
      "outputs": [
        {
          "output_type": "stream",
          "name": "stdout",
          "text": [
            "Se acepta la hipotesis\n",
            "              Frecuencia  Frecuencia esperada  (F-Fe)  Chi\n",
            "0<= xn <0.2          6.0                 10.0    -4.0  1.6\n",
            "0.2<= x <0.4        12.0                 10.0     2.0  0.4\n",
            "0.4<= x <0.6        13.0                 10.0     3.0  0.9\n",
            "0.6<= x <0.8         7.0                 10.0    -3.0  0.9\n",
            "0.8<= x <1          12.0                 10.0     2.0  0.4\n"
          ]
        }
      ]
    }
  ]
}