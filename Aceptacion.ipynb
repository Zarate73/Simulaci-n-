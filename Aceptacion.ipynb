{
  "nbformat": 4,
  "nbformat_minor": 0,
  "metadata": {
    "colab": {
      "provenance": [],
      "authorship_tag": "ABX9TyOjO38uHV3b6BZGfa6Oi+JK",
      "include_colab_link": true
    },
    "kernelspec": {
      "name": "python3",
      "display_name": "Python 3"
    },
    "language_info": {
      "name": "python"
    }
  },
  "cells": [
    {
      "cell_type": "markdown",
      "metadata": {
        "id": "view-in-github",
        "colab_type": "text"
      },
      "source": [
        "<a href=\"https://colab.research.google.com/github/Zarate73/Simulaci-n-/blob/main/Aceptacion.ipynb\" target=\"_parent\"><img src=\"https://colab.research.google.com/assets/colab-badge.svg\" alt=\"Open In Colab\"/></a>"
      ]
    },
    {
      "cell_type": "markdown",
      "source": [
        "\n",
        "## Método de aceptación y rechazo.\n",
        "---\n",
        "---\n",
        "\n",
        "$\\textbf{Teorema fundamental de la simulacion:}$ Simular $X\\sim f(x)$ es equivalente a simular,\n",
        "\n",
        "$$(X,U) \\sim u\\{(x,u):0<u<f(x)\\} $$\n",
        "\n",
        "Lo anterior también puede reescribirse de la siguiente manera:\n",
        "\n",
        "$$ f(x)=\\int\\limits_{0}^{f(x)} du.$$\n",
        "\n",
        "$\\textit{Idea del método:}$ Queremos generar $x\\sim f(x)$ suponiendo que sabemos generar un distribución $g(x)$ la cual acota a $f(x)$ de tal modo que:\n",
        "\n",
        "$$\\frac{f(x)}{g(x)}\\leq c $$\n",
        "\n",
        "$\\textbf{Nota:}$ Se puede utilizar el criterio de la segunda deriva para hallar un máximo de $f(x)$  y asi encontrar tanto a $c$ como a $g(x)$, pero es más sencillo usar $g(x)=U(0,1)$ y $c$ es el factor de ajuste para que podamos acotar a $f(x)$.\n",
        "\n"
      ],
      "metadata": {
        "id": "IGn6AVOihPnD"
      }
    },
    {
      "cell_type": "code",
      "source": [],
      "metadata": {
        "id": "hQ1Ei284nT8a"
      },
      "execution_count": null,
      "outputs": []
    }
  ]
}