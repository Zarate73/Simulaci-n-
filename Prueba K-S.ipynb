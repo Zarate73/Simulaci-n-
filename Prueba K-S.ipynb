{
  "nbformat": 4,
  "nbformat_minor": 0,
  "metadata": {
    "colab": {
      "provenance": [],
      "authorship_tag": "ABX9TyN3q91h8BHJJa0MlTThEMbh",
      "include_colab_link": true
    },
    "kernelspec": {
      "name": "python3",
      "display_name": "Python 3"
    },
    "language_info": {
      "name": "python"
    }
  },
  "cells": [
    {
      "cell_type": "markdown",
      "metadata": {
        "id": "view-in-github",
        "colab_type": "text"
      },
      "source": [
        "<a href=\"https://colab.research.google.com/github/Zarate73/Simulaci-n-/blob/main/Prueba%20K-S.ipynb\" target=\"_parent\"><img src=\"https://colab.research.google.com/assets/colab-badge.svg\" alt=\"Open In Colab\"/></a>"
      ]
    },
    {
      "cell_type": "code",
      "execution_count": 6,
      "metadata": {
        "colab": {
          "base_uri": "https://localhost:8080/"
        },
        "id": "6QVJEhBj2ROs",
        "outputId": "5ac0af2d-0703-44d4-dfe7-d1e7c1921a86"
      },
      "outputs": [
        {
          "output_type": "stream",
          "name": "stdout",
          "text": [
            "Requirement already satisfied: numpy in /usr/local/lib/python3.10/dist-packages (1.25.2)\n",
            "Requirement already satisfied: pandas in /usr/local/lib/python3.10/dist-packages (1.5.3)\n",
            "Requirement already satisfied: python-dateutil>=2.8.1 in /usr/local/lib/python3.10/dist-packages (from pandas) (2.8.2)\n",
            "Requirement already satisfied: pytz>=2020.1 in /usr/local/lib/python3.10/dist-packages (from pandas) (2023.4)\n",
            "Requirement already satisfied: numpy>=1.21.0 in /usr/local/lib/python3.10/dist-packages (from pandas) (1.25.2)\n",
            "Requirement already satisfied: six>=1.5 in /usr/local/lib/python3.10/dist-packages (from python-dateutil>=2.8.1->pandas) (1.16.0)\n",
            "Se acepta la hipotesis\n",
            "       n      Xi      D+      D-\n",
            "0    1.0  0.0318  0.0318  0.0518\n",
            "1    2.0  0.0856  0.0656  0.0856\n",
            "2    3.0  0.0954  0.0554  0.0754\n",
            "3    4.0  0.1492  0.0892  0.1092\n",
            "4    5.0  0.1525  0.0725  0.0925\n",
            "5    6.0  0.1592  0.0592  0.0792\n",
            "6    7.0  0.2006  0.0806  0.1006\n",
            "7    8.0  0.2088  0.0688  0.0888\n",
            "8    9.0  0.2204  0.0604  0.0804\n",
            "9   10.0  0.2258  0.0458  0.0658\n",
            "10  11.0  0.2415  0.0415  0.0615\n",
            "11  12.0  0.3188  0.0988  0.1188\n",
            "12  13.0  0.3254  0.0854  0.1054\n",
            "13  14.0  0.3410  0.0810  0.1010\n",
            "14  15.0  0.3469  0.0669  0.0869\n",
            "15  16.0  0.3681  0.0681  0.0881\n",
            "16  17.0  0.3808  0.0608  0.0808\n",
            "17  18.0  0.3884  0.0484  0.0684\n",
            "18  19.0  0.4272  0.0672  0.0872\n",
            "19  20.0  0.4557  0.0757  0.0957\n",
            "20  21.0  0.4603  0.0603  0.0803\n",
            "21  22.0  0.4720  0.0520  0.0720\n",
            "22  23.0  0.5027  0.0627  0.0827\n",
            "23  24.0  0.5291  0.0691  0.0891\n",
            "24  25.0  0.5461  0.0661  0.0861\n",
            "25  26.0  0.5613  0.0613  0.0813\n",
            "26  27.0  0.5739  0.0539  0.0739\n",
            "27  28.0  0.5844  0.0444  0.0644\n",
            "28  29.0  0.5991  0.0391  0.0591\n",
            "29  30.0  0.5992  0.0192  0.0392\n",
            "30  31.0  0.5999  0.0001  0.0199\n",
            "31  32.0  0.6235  0.0035  0.0235\n",
            "32  33.0  0.6289  0.0111  0.0089\n",
            "33  34.0  0.6360  0.0240  0.0040\n",
            "34  35.0  0.6431  0.0369  0.0169\n",
            "35  36.0  0.7387  0.0387  0.0587\n",
            "36  37.0  0.7401  0.0201  0.0401\n",
            "37  38.0  0.7977  0.0577  0.0777\n",
            "38  39.0  0.8147  0.0547  0.0747\n",
            "39  40.0  0.8376  0.0576  0.0776\n",
            "40  41.0  0.8536  0.0536  0.0736\n",
            "41  42.0  0.8589  0.0389  0.0589\n",
            "42  43.0  0.8681  0.0281  0.0481\n",
            "43  44.0  0.8750  0.0150  0.0350\n",
            "44  45.0  0.8797  0.0003  0.0197\n",
            "45  46.0  0.8846  0.0154  0.0046\n",
            "46  47.0  0.9170  0.0030  0.0170\n",
            "47  48.0  0.9606  0.0206  0.0406\n",
            "48  49.0  0.9848  0.0248  0.0448\n",
            "49  50.0  0.9996  0.0196  0.0396\n"
          ]
        }
      ],
      "source": [
        "!pip install numpy\n",
        "import numpy as np\n",
        "!pip install pandas\n",
        "import pandas as pd\n",
        "\n",
        "def Prueba_Kolm(V,alpha):\n",
        "    n = len(V)\n",
        "    y = 0\n",
        "    T = np.sort(V)\n",
        "\n",
        "    D_plus = np.zeros(n)\n",
        "    D_menos = np.zeros(n)\n",
        "    N = np.zeros(n)\n",
        "\n",
        "    for i in range(n):\n",
        "        if i < n or i > 0:\n",
        "            y += 1\n",
        "            D_plus[i] = abs((i/n) - T[i])\n",
        "            D_menos[i] = abs(T[i] - ((i-1)/n))\n",
        "            N[i] = y\n",
        "\n",
        "    if alpha == 0.2:\n",
        "        x = 0.724165 / np.sqrt(n)\n",
        "    elif alpha == 0.15:\n",
        "        x = 0.758905 / np.sqrt(n)\n",
        "    elif alpha == 0.1:\n",
        "        x = 0.8043545 / np.sqrt(n)\n",
        "    elif alpha == 0.05:\n",
        "        x = 0.875897 / np.sqrt(n)\n",
        "    else:\n",
        "        x = 1.0210785 / np.sqrt(n)\n",
        "\n",
        "    M1 = np.max(D_plus)\n",
        "    M2 = np.max(D_menos)\n",
        "    D = max(M1, M2)\n",
        "    D_plus = D_plus.reshape(-1, 1)\n",
        "    D_menos = D_menos.reshape(-1, 1)\n",
        "    N = N.reshape(-1, 1)\n",
        "    T = T.reshape(-1, 1)\n",
        "    U = np.concatenate((N, T, D_plus, D_menos), axis=1)\n",
        "\n",
        "    if D < x:\n",
        "        print('Se acepta la hipotesis')\n",
        "    else:\n",
        "        print('Se rechaza')\n",
        "\n",
        "    # Crear tabla con los datos\n",
        "    col_names = [\"n\", \"Xi\", \"D+\", \"D-\"]\n",
        "    T_Frecuencias = pd.DataFrame(U, columns=col_names)\n",
        "\n",
        "    return T_Frecuencias\n",
        "\n",
        "# Ejemplo de uso\n",
        "V = [0.8797, 0.3884, 0.6289, 0.8750, 0.5999, 0.8589, 0.9996, 0.2415, 0.3808, 0.9606, 0.9848, 0.3469, 0.7977, 0.5844, 0.8147, 0.6431, 0.7387, 0.5613, 0.0318, 0.7401, 0.4557, 0.1592, 0.8536, 0.8846, 0.3410, 0.1492, 0.8681, 0.5291, 0.3188, 0.5992, 0.9170, 0.2204, 0.5991, 0.5461, 0.5739, 0.3254, 0.0856, 0.2258, 0.4603, 0.5027, 0.8376, 0.6235, 0.3681, 0.2088, 0.1525, 0.2006, 0.4720, 0.4272, 0.6360, 0.0954]\n",
        "alpha = 0.05\n",
        "resultado = Prueba_Kolm(V, alpha)\n",
        "print(resultado)"
      ]
    }
  ]
}