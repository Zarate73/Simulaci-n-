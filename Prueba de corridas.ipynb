{
  "nbformat": 4,
  "nbformat_minor": 0,
  "metadata": {
    "colab": {
      "provenance": [],
      "authorship_tag": "ABX9TyNASdE+T4Pg4TyGlSVI0Ogu",
      "include_colab_link": true
    },
    "kernelspec": {
      "name": "python3",
      "display_name": "Python 3"
    },
    "language_info": {
      "name": "python"
    }
  },
  "cells": [
    {
      "cell_type": "markdown",
      "metadata": {
        "id": "view-in-github",
        "colab_type": "text"
      },
      "source": [
        "<a href=\"https://colab.research.google.com/github/Zarate73/Simulaci-n-/blob/main/Prueba%20de%20corridas.ipynb\" target=\"_parent\"><img src=\"https://colab.research.google.com/assets/colab-badge.svg\" alt=\"Open In Colab\"/></a>"
      ]
    },
    {
      "cell_type": "code",
      "execution_count": 4,
      "metadata": {
        "id": "5q1vd4axPfrn"
      },
      "outputs": [],
      "source": [
        "import numpy as np\n",
        "from scipy.stats import norm\n",
        "import pandas as pd\n",
        "\n",
        "def PuCorr(Datos, alpha):\n",
        "    # Convertir los datos en un vector columna\n",
        "    Datos = np.array(Datos).flatten()\n",
        "    n = len(Datos)\n",
        "\n",
        "    # Crear un vector de corridas\n",
        "    C = np.zeros(n)\n",
        "    for i in range(n-1):\n",
        "        if Datos[i+1] < Datos[i]:\n",
        "            C[i] = 0\n",
        "        else:\n",
        "            C[i] = 1\n",
        "\n",
        "    # Contar las corridas y sus longitudes\n",
        "    nc = 1\n",
        "    lc = [1]\n",
        "    for i in range(1, len(C)):\n",
        "        if C[i] != C[i-1]:\n",
        "            nc += 1\n",
        "            lc.append(1)\n",
        "        else:\n",
        "            lc[-1] += 1\n",
        "\n",
        "    Mu = (2 * nc - 1) / 3\n",
        "    Sigma = (16 * nc - 29) / 90\n",
        "\n",
        "    # Calcular el estadístico Z\n",
        "    Z = (nc - Mu) / np.sqrt(Sigma)\n",
        "\n",
        "    # Calcular el valor p para el estadístico de prueba Z\n",
        "    p_value = 2 * (1 - norm.cdf(np.abs(Z)))\n",
        "\n",
        "    if p_value < alpha:\n",
        "        print('Los datos no parecen ser aleatorios.')\n",
        "    else:\n",
        "        print('Los datos parecen ser aleatorios.')\n",
        "\n",
        "    # Agregar corridas al vector de datos\n",
        "    C = np.insert(C, 0, np.nan)\n",
        "    C = C[:-1]\n",
        "\n",
        "    # Crear una tabla con los datos y las corridas\n",
        "    H = np.column_stack((Datos, C))\n",
        "    Table = pd.DataFrame(H, columns=[\"x\", \"Corridas\"])\n",
        "\n",
        "    return Table\n",
        "\n"
      ]
    },
    {
      "cell_type": "code",
      "source": [
        "Datos = [\n",
        "    [0.048, 0.591, 0.478, 0.166, 0.932],\n",
        "    [0.926, 0.007, 0.551, 0.362, 0.533],\n",
        "    [0.368, 0.437, 0.178, 0.411, 0.545],\n",
        "    [0.787, 0.594, 0.086, 0.951, 0.772],\n",
        "    [0.298, 0.199, 0.157, 0.401, 0.631] ]\n",
        "alpha = 0.05\n",
        "resultado = PuCorr(Datos, alpha)\n",
        "print(resultado)"
      ],
      "metadata": {
        "colab": {
          "base_uri": "https://localhost:8080/"
        },
        "id": "2PR046nUPoRd",
        "outputId": "b0655a69-dad6-4bfc-b35a-e0a4026b1398"
      },
      "execution_count": 5,
      "outputs": [
        {
          "output_type": "stream",
          "name": "stdout",
          "text": [
            "Los datos no parecen ser aleatorios.\n",
            "        x  Corridas\n",
            "0   0.048       NaN\n",
            "1   0.591       1.0\n",
            "2   0.478       0.0\n",
            "3   0.166       0.0\n",
            "4   0.932       1.0\n",
            "5   0.926       0.0\n",
            "6   0.007       0.0\n",
            "7   0.551       1.0\n",
            "8   0.362       0.0\n",
            "9   0.533       1.0\n",
            "10  0.368       0.0\n",
            "11  0.437       1.0\n",
            "12  0.178       0.0\n",
            "13  0.411       1.0\n",
            "14  0.545       1.0\n",
            "15  0.787       1.0\n",
            "16  0.594       0.0\n",
            "17  0.086       0.0\n",
            "18  0.951       1.0\n",
            "19  0.772       0.0\n",
            "20  0.298       0.0\n",
            "21  0.199       0.0\n",
            "22  0.157       0.0\n",
            "23  0.401       1.0\n",
            "24  0.631       1.0\n"
          ]
        }
      ]
    },
    {
      "cell_type": "code",
      "source": [
        "Datos = [\n",
        "    [0.78, 0.98, 0.24, 0.73, 0.43, 0.16, 0.78, 0.47, 0.18, 0.55],\n",
        "    [0.04, 0.29, 0.68, 0.77, 0.16, 0.03, 0.79, 0.22, 0.37, 0.80],\n",
        "    [0.96, 0.26, 0.91, 0.55, 0.75, 0.55, 0.64, 0.39, 0.53, 0.45],\n",
        "    [0.61, 0.14, 0.38, 0.12, 0.40, 0.74, 0.78, 0.98, 0.27, 0.60],\n",
        "    [0.43, 0.67, 0.62, 0.32, 0.53, 0.54, 0.24, 0.29, 0.18, 0.08],\n",
        "    [0.82, 0.94, 0.19, 0.98, 0.41, 1.00, 0.74, 0.92, 0.14, 0.43],\n",
        "    [0.83, 0.88, 0.18, 0.21, 0.50, 0.13, 0.43, 0.69, 0.08, 0.12],\n",
        "    [0.22, 0.50, 0.16, 0.11, 0.18, 0.89, 0.80, 0.42, 0.29, 0.87],\n",
        "    [0.83, 0.79, 0.65, 0.28, 0.78, 0.49, 0.36, 0.86, 0.87, 0.64],\n",
        "    [0.51, 0.07, 0.18, 0.94, 0.50, 0.22, 0.66, 0.91, 0.48, 0.24]\n",
        "]\n",
        "\n",
        "alpha = 0.05\n",
        "resultado = PuCorr(Datos, alpha)\n",
        "print(resultado)"
      ],
      "metadata": {
        "id": "QLb8IE5jUykN"
      },
      "execution_count": null,
      "outputs": []
    }
  ]
}