{
  "nbformat": 4,
  "nbformat_minor": 0,
  "metadata": {
    "colab": {
      "provenance": [],
      "authorship_tag": "ABX9TyOrk7/syiwuqwHurJ/rDEcL",
      "include_colab_link": true
    },
    "kernelspec": {
      "name": "python3",
      "display_name": "Python 3"
    },
    "language_info": {
      "name": "python"
    }
  },
  "cells": [
    {
      "cell_type": "markdown",
      "metadata": {
        "id": "view-in-github",
        "colab_type": "text"
      },
      "source": [
        "<a href=\"https://colab.research.google.com/github/Zarate73/Simulaci-n-/blob/main/Untitled1.ipynb\" target=\"_parent\"><img src=\"https://colab.research.google.com/assets/colab-badge.svg\" alt=\"Open In Colab\"/></a>"
      ]
    },
    {
      "cell_type": "code",
      "source": [
        "\n",
        "import numpy as np\n",
        "from tabulate import tabulate\n",
        "\n",
        "\n",
        "\n",
        "# Crear un vector multidimensional\n",
        "v = [[1, 2], [3, 4], [5, 6]]\n",
        "\n",
        "# Poner el vector en una tabla con 2 columnas\n",
        "print(tabulate(v, tablefmt=\"grid\", headers=[\"Columna 1\", \"Columna 2\"], colalign=(\"center\", \"center\")))\n",
        "\n",
        "\n",
        "\n",
        "#NOTA: se cicla en el 16 con los valores de m=16, x0=6, a=5, c=5\n",
        "#      con a=50; te dan los valores del 4->n se repiten\n",
        "\n",
        "#Se cicla cuando el Xi = a la semilla\n"
      ],
      "metadata": {
        "colab": {
          "base_uri": "https://localhost:8080/"
        },
        "id": "pSj4LTDv6UPJ",
        "outputId": "59a1ad04-a030-4dd5-af00-a7802365f2a6"
      },
      "execution_count": null,
      "outputs": [
        {
          "output_type": "stream",
          "name": "stdout",
          "text": [
            "+-------------+-------------+\n",
            "|  Columna 1  |  Columna 2  |\n",
            "+=============+=============+\n",
            "|      1      |      2      |\n",
            "+-------------+-------------+\n",
            "|      3      |      4      |\n",
            "+-------------+-------------+\n",
            "|      5      |      6      |\n",
            "+-------------+-------------+\n"
          ]
        }
      ]
    },
    {
      "cell_type": "code",
      "source": [
        "!pip install tabulate\n",
        "import numpy as np\n",
        "from tabulate import tabulate\n",
        "\n",
        "#Metodo de congruencia (Generacion de numeros aleatorios)\n",
        "x0=6\n",
        "S=6#Semilla\n",
        "m=28\n",
        "a=5\n",
        "c=5\n",
        "n=20\n",
        "k=[None]* n\n",
        "T=[None]*n\n",
        "G=[None]*n\n",
        "t=list(range(1,11))\n",
        "t=np.array[t]\n",
        "print (t)\n",
        "\n",
        "\n",
        "\n",
        "\n",
        "\n",
        "xn=x0\n",
        "for i in range(n):\n",
        "\n",
        "  g=a*xn + c #Operacion\n",
        "  G[i]=g\n",
        "  mod=g % m #residuo y el siguiente Xn\n",
        "  xn=mod\n",
        "  T[i] = xn #Lista de numeros para trabajar\n",
        "  print(xn)\n",
        "  XR=xn/m #Asi estaran distribuidos Uniformemente entre 0 y 1\n",
        "  k[i]=XR #Lista\n",
        "\n",
        "  if T[i] == S:\n",
        "    k=np.array(k)\n",
        "    T=np.array(T)\n",
        "    G=np.array(G)\n",
        "    t1=t.T\n",
        "    H=[[t1],[T],[G],[k]]\n",
        "    print(tabulate(H,tablefmt=\"grid\",headers=[\"n\",\"aXn+C\",\"aXn+C(mod m)\",\"(aXn+C mod m)/m\"],colalign=(\"center\",\"center\",\"center\",\"center\",\"center\")))\n",
        "    break\n",
        "\n",
        "\n",
        "\n",
        "\n",
        "\n"
      ],
      "metadata": {
        "id": "CburZq67Aw9y",
        "colab": {
          "base_uri": "https://localhost:8080/",
          "height": 248
        },
        "outputId": "b8541eb7-54c3-4c70-b737-3019540cdfc9"
      },
      "execution_count": null,
      "outputs": [
        {
          "output_type": "stream",
          "name": "stdout",
          "text": [
            "Requirement already satisfied: tabulate in /usr/local/lib/python3.10/dist-packages (0.9.0)\n"
          ]
        },
        {
          "output_type": "error",
          "ename": "TypeError",
          "evalue": "'builtin_function_or_method' object is not subscriptable",
          "traceback": [
            "\u001b[0;31m---------------------------------------------------------------------------\u001b[0m",
            "\u001b[0;31mTypeError\u001b[0m                                 Traceback (most recent call last)",
            "\u001b[0;32m<ipython-input-19-22cd5d186c06>\u001b[0m in \u001b[0;36m<cell line: 16>\u001b[0;34m()\u001b[0m\n\u001b[1;32m     14\u001b[0m \u001b[0mG\u001b[0m\u001b[0;34m=\u001b[0m\u001b[0;34m[\u001b[0m\u001b[0;32mNone\u001b[0m\u001b[0;34m]\u001b[0m\u001b[0;34m*\u001b[0m\u001b[0mn\u001b[0m\u001b[0;34m\u001b[0m\u001b[0;34m\u001b[0m\u001b[0m\n\u001b[1;32m     15\u001b[0m \u001b[0mt\u001b[0m\u001b[0;34m=\u001b[0m\u001b[0mlist\u001b[0m\u001b[0;34m(\u001b[0m\u001b[0mrange\u001b[0m\u001b[0;34m(\u001b[0m\u001b[0;36m1\u001b[0m\u001b[0;34m,\u001b[0m\u001b[0;36m11\u001b[0m\u001b[0;34m)\u001b[0m\u001b[0;34m)\u001b[0m\u001b[0;34m\u001b[0m\u001b[0;34m\u001b[0m\u001b[0m\n\u001b[0;32m---> 16\u001b[0;31m \u001b[0mt\u001b[0m\u001b[0;34m=\u001b[0m\u001b[0mnp\u001b[0m\u001b[0;34m.\u001b[0m\u001b[0marray\u001b[0m\u001b[0;34m[\u001b[0m\u001b[0mt\u001b[0m\u001b[0;34m]\u001b[0m\u001b[0;34m\u001b[0m\u001b[0;34m\u001b[0m\u001b[0m\n\u001b[0m\u001b[1;32m     17\u001b[0m \u001b[0mprint\u001b[0m \u001b[0;34m(\u001b[0m\u001b[0mt\u001b[0m\u001b[0;34m)\u001b[0m\u001b[0;34m\u001b[0m\u001b[0;34m\u001b[0m\u001b[0m\n\u001b[1;32m     18\u001b[0m \u001b[0;34m\u001b[0m\u001b[0m\n",
            "\u001b[0;31mTypeError\u001b[0m: 'builtin_function_or_method' object is not subscriptable"
          ]
        }
      ]
    },
    {
      "cell_type": "code",
      "source": [
        "!pip install tabulate\n",
        "import numpy as np\n",
        "from  tabulate import tabulate\n",
        "\n",
        "#Metodo de congruencia (Generacion de numeros aleatorios)\n",
        "x0=6\n",
        "S=6#Semilla\n",
        "m=28\n",
        "a=5\n",
        "c=5\n",
        "n=20\n",
        "k=np.empty(n)\n",
        "T=np.empty(n)\n",
        "G=np.empty(n)\n",
        "y=1\n",
        "\n",
        "t=np.arange(1, 11)\n",
        "print (t.T)\n",
        "\n",
        "xn=x0\n",
        "for i in range(n):\n",
        "\n",
        "\n",
        "  g=a*xn + c #Operacion\n",
        "  G[i]=g\n",
        "  mod=g % m #residuo y el siguiente Xn\n",
        "  xn=mod\n",
        "  T[i] = xn #Lista de numeros para trabajar\n",
        "  #print(\"el vector de números es\",xn)\n",
        "  XR=xn/m #Asi estaran distribuidos Uniformemente entre 0 y 1\n",
        "  k[i]=XR #Lista\n",
        "  y=y+1\n",
        "\n",
        "\n",
        "\n",
        "  if T[i] == S:\n",
        "    print(y)\n",
        "    print(len(k))\n",
        "    k=np.array(k[1:i+1])\n",
        "    print('vector k:\\n',np.transpose(k))\n",
        "    T=np.array(T)\n",
        "  #  print(T)\n",
        "    G=np.array(G)\n",
        "  #  print(G)\n",
        "    t1=t\n",
        "    print(t .T)\n",
        "    H=[[t1],[T.T],[G.T],[k .T]]\n",
        "  #  print(H)\n",
        "   # print(tabulate(H,tablefmt=\"grid\",headers=[\"n\",\"aXn+C\",\"aXn+C(mod m)\",\"(aXn+C mod m)/m\"],colalign=(\"center\",\"center\",\"center\",\"center\",\"center\")))\n",
        "    break"
      ],
      "metadata": {
        "id": "1-MF3W65Z6uU"
      },
      "execution_count": null,
      "outputs": []
    }
  ]
}