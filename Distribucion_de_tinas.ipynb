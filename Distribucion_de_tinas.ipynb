{
  "nbformat": 4,
  "nbformat_minor": 0,
  "metadata": {
    "colab": {
      "provenance": [],
      "authorship_tag": "ABX9TyPVWOLkTTz0LNSUWg7+Hnvo",
      "include_colab_link": true
    },
    "kernelspec": {
      "name": "python3",
      "display_name": "Python 3"
    },
    "language_info": {
      "name": "python"
    }
  },
  "cells": [
    {
      "cell_type": "markdown",
      "metadata": {
        "id": "view-in-github",
        "colab_type": "text"
      },
      "source": [
        "<a href=\"https://colab.research.google.com/github/Zarate73/Simulaci-n-/blob/main/Distribucion_de_tinas.ipynb\" target=\"_parent\"><img src=\"https://colab.research.google.com/assets/colab-badge.svg\" alt=\"Open In Colab\"/></a>"
      ]
    },
    {
      "cell_type": "markdown",
      "source": [
        "La empresa TIBASA (fabricante de tinas de baño) tiene asignado un camión especial\n",
        "para el transporte de tinas terminadas. Dicho camión transporta diariamente 5 tinas.\n",
        "El peso de cada tina sigue la siguiente distribución de probabilidad:"
      ],
      "metadata": {
        "id": "JMVtQDvFfeVZ"
      }
    },
    {
      "cell_type": "markdown",
      "source": [
        "## Solución\n",
        "* a) analiticamente\n",
        "\n",
        "\n",
        "Para resolver este problema analíticamente, necesitamos calcular la probabilidad de que el peso total de las 5 tinas exceda una tonelada (1000 kg). Dado que el peso de cada tina sigue una distribución triangular, primero analizaremos esta distribución y luego determinaremos la probabilidad de que la suma de los pesos de las 5 tinas supere los 1000 kg.\n",
        "\n",
        "### Paso 1: Entender la Distribución Triangular\n",
        "\n",
        "Una distribución triangular está definida por tres parámetros:\n",
        "\n",
        "* $a$ (extremo izquierdo): 190 kg\n",
        "* $b$ (moda o centro): 210 kg\n",
        "* $c$ (extremo derecho): 230 kg\n",
        "\n",
        "\n",
        "La función de densidad de probabilidad (PDF) de una distribución triangular se define por:\n",
        "\n",
        "$\n",
        "f(x) =\n",
        "\\begin{cases}\n",
        "\\frac{2(x - a)}{(b - a)(c - a)}, & \\text{para } a \\leq x < b \\\\\n",
        "\\frac{2(c - x)}{(c - b)(c - a)}, & \\text{para } b \\leq x \\leq c\n",
        "\\end{cases}\n",
        "$\n",
        "\n",
        "### Paso 2: Calcular la Media y la Varianza de la Distribución Triangular\n",
        "\n",
        "Para una distribución triangular, la media ($\\mu$) y la varianza ($\\sigma^2$) se calculan como:\n",
        "\n",
        "$$\n",
        "\\mu = \\frac{a + b + c}{3}\n",
        "$$\n",
        "\n",
        "$$\n",
        "\\sigma^2 = \\frac{a^2 + b^2 + c^2 - ab - ac - bc}{18}\n",
        "$$\n",
        "\n",
        "Sustituyendo los valores $a = 190$, $b = 210$, y $c = 230$:\n",
        "\n",
        "$$\n",
        "\\mu = \\frac{190 + 210 + 230}{3} = \\frac{630}{3} = 210 \\text{ kg}\n",
        "$$\n",
        "\n",
        "$$\n",
        "\\sigma^2 = \\frac{190^2 + 210^2 + 230^2 - 190 \\cdot 210 - 190 \\cdot 230 - 210 \\cdot 230}{18}\n",
        "$$\n",
        "\n",
        "$$\n",
        "\\sigma^2 = \\frac{36100 + 44100 + 52900 - 39900 - 43700 - 48300}{18}\n",
        "$$\n",
        "\n",
        "$$\n",
        "\\sigma^2 = \\frac{133100 - 131900}{18} = \\frac{1200}{18} = 66.\\overline{66} \\text{ kg}^2\n",
        "$$\n",
        "\n",
        "$$\n",
        "\\sigma \\approx 8.16 \\text{ kg}\n",
        "$$\n",
        "\n",
        "### Paso 3: Distribución del Peso Total de las 5 Tinas\n",
        "\n",
        "La media del peso total de las 5 tinas ($W$) será:\n",
        "\n",
        "$$\n",
        "\\mu_W = 5 \\cdot \\mu = 5 \\cdot 210 = 1050 \\text{ kg}\n",
        "$$\n",
        "\n",
        "La varianza del peso total de las 5 tinas será:\n",
        "\n",
        "$$\n",
        "\\sigma_W^2 = 5 \\cdot \\sigma^2 = 5 \\cdot 66.\\overline{66} \\approx 333.33 \\text{ kg}^2\n",
        "$$\n",
        "\n",
        "La desviación estándar del peso total será:\n",
        "\n",
        "$$\n",
        "\\sigma_W = \\sqrt{333.33} \\approx 18.26 \\text{ kg}\n",
        "$$\n",
        "\n",
        "### Paso 4: Probabilidad de que el Peso Total Exceda la Capacidad del Camión\n",
        "\n",
        "Queremos calcular $P(W > 1000)$. Dado que $W$ es la suma de 5 variables independientes con distribución triangular, podemos aproximar la distribución de $W$ a una distribución normal $N(\\mu_W, \\sigma_W^2)$.\n",
        "\n",
        "Usando la aproximación normal:\n",
        "\n",
        "$$\n",
        "Z = \\frac{W - \\mu_W}{\\sigma_W}\n",
        "$$\n",
        "\n",
        "Calculamos el valor de $Z$ para $W = 1000$:\n",
        "\n",
        "$$\n",
        "Z = \\frac{1000 - 1050}{18.26} \\approx \\frac{-50}{18.26} \\approx -2.74\n",
        "$$\n",
        "\n",
        "Ahora, buscamos la probabilidad de que $Z$ sea mayor que -2.74 usando la tabla de la distribución normal estándar.\n",
        "\n",
        "$$\n",
        "P(Z > -2.74) \\approx 0.9970\n",
        "$$\n",
        "\n",
        "Por lo tanto, la probabilidad de que el peso total de las tinas exceda la capacidad del camión es aproximadamente $0.9970$ o 99.7\\%.\n",
        "\n",
        "\n",
        "\n",
        "\n",
        "\n",
        "* b) Por simulación.\n",
        "\n",
        "  Primero simulamos la distribución con un programa previamente realizado con la transformda inversa.\n"
      ],
      "metadata": {
        "id": "V1vx_fdHfl5d"
      }
    },
    {
      "cell_type": "code",
      "source": [
        "import random as rd\n",
        "import numpy as np\n",
        "import matplotlib.pyplot as plt\n",
        "import math"
      ],
      "metadata": {
        "id": "XZLgHirSfpKF"
      },
      "execution_count": 1,
      "outputs": []
    },
    {
      "cell_type": "code",
      "source": [
        "def distriangular(a,b,c,n):\n",
        "  C=[]\n",
        "  d1=(b-a)\n",
        "  d2=(c-a)\n",
        "  d3=(c-b)\n",
        "\n",
        "  for i in range(n):\n",
        "    x=rd.random()\n",
        "    if x<=0:\n",
        "      U = 0\n",
        "      C.append(U)\n",
        "    elif 0 < x < d1/d2:\n",
        "      U = np.sqrt(d1 * d2 * x) + a\n",
        "      C.append(U)\n",
        "\n",
        "    elif d1/d2<x<1:\n",
        "      k=-(x-1)\n",
        "      U=-np.sqrt(k*d2*d3)+c\n",
        "      C.append(U)\n",
        "    elif x>=1:\n",
        "      U=1\n",
        "      C.append(U)\n",
        "\n",
        "\n",
        "  return C"
      ],
      "metadata": {
        "id": "eCuKJH2SfsxZ"
      },
      "execution_count": 2,
      "outputs": []
    },
    {
      "cell_type": "code",
      "source": [
        "G=distriangular(190,210,230,90000)\n",
        "\n",
        "\n",
        "#plt.hist(G, bins=50, density=True, alpha=0.6, color='g');\n",
        "\n",
        "# Crear histograma para visualizar la distribución\n",
        "plt.hist(G, bins=50, density=True, alpha=0.7, color='blue', edgecolor='black')\n",
        "\n",
        "# Agregar etiquetas y título\n",
        "plt.xlabel('Valor')\n",
        "plt.ylabel('Densidad de probabilidad')\n",
        "plt.title('Distribución triangular generada con función inversa del ejercicio de las tinas')\n",
        "\n",
        "# Mostrar la gráfica\n",
        "plt.show()"
      ],
      "metadata": {
        "colab": {
          "base_uri": "https://localhost:8080/",
          "height": 472
        },
        "id": "AXG3DeCsfy39",
        "outputId": "b5618e14-8acc-48ab-c298-af6ee680d520"
      },
      "execution_count": 3,
      "outputs": [
        {
          "output_type": "display_data",
          "data": {
            "text/plain": [
              "<Figure size 640x480 with 1 Axes>"
            ],
            "image/png": "[encoded data removed]"
          },
          "metadata": {}
        }
      ]
    },
    {
      "cell_type": "markdown",
      "source": [
        "Como podemos observar generamos la distribucion que representan las tinas por lo que ahora podemos simular el experimento.\n"
      ],
      "metadata": {
        "id": "L9jAdbBAf-N8"
      }
    },
    {
      "cell_type": "code",
      "source": [
        "def tinas(capacidad,n,a,b,c):\n",
        "\n",
        "  cont=0\n",
        "  #k=0\n",
        "\n",
        "  for i in range(n):\n",
        "    x=distriangular(a,b,c,5)\n",
        "    g=sum(x)\n",
        "    if g<=capacidad:\n",
        "      cont=+1\n",
        "\n",
        "  prob=1-(cont/n)\n",
        "\n",
        "  return prob"
      ],
      "metadata": {
        "id": "7R_Z6uEPf1-M"
      },
      "execution_count": 4,
      "outputs": []
    },
    {
      "cell_type": "code",
      "source": [
        "g=tinas(1000,260,190,210,230)\n",
        "print(\"La probabilidad de que las tinas exceda la capacidad del camion es:\",g)"
      ],
      "metadata": {
        "colab": {
          "base_uri": "https://localhost:8080/"
        },
        "id": "MIter3BvgBhX",
        "outputId": "477eaf5d-f7f0-448a-e5a8-090d53cf867e"
      },
      "execution_count": 5,
      "outputs": [
        {
          "output_type": "stream",
          "name": "stdout",
          "text": [
            "La probabilidad de que las tinas exceda la capacidad del camion es: 0.9961538461538462\n"
          ]
        }
      ]
    },
    {
      "cell_type": "markdown",
      "source": [
        "Por lo que la probabilidad de que las camionetas excedan la capacidad del camión es del 99.61%.\n",
        "\n",
        "Si comparamos la probabilidad obtenida con la analítica difiere en 0.09\\% por lo que se podría considerar \"buena\""
      ],
      "metadata": {
        "id": "BpnbdclSgLAe"
      }
    },
    {
      "cell_type": "markdown",
      "source": [
        "* Analice la conveniencia de adquirir un nuevo camión. Para tal propósito, suponga que\n",
        "cada vez que la capacidad del camión es excedida una tina es enviada a través de otra\n",
        "compañía a un costo de 200. También suponga que el costo promedio anual de un\n",
        "nuevo camión es de 60, 000. Si se trabaja 5 días a la semana y 52 semanas al año,\n",
        "¿cuál de las dos alternativas mencionadas es la más atractiva?\n",
        "   * a) Resolver analíticamente.\n",
        "\n",
        "\n",
        "\n",
        "\n",
        "\n",
        "Para determinar cuál de las dos alternativas (continuar con el camión actual y pagar 200 cada vez que se excede la capacidad, o adquirir un nuevo camión a un costo anual de 60,000) es más conveniente, debemos analizar el costo esperado asociado con cada alternativa.\n",
        "\n",
        "### Paso 1: Calcular la Probabilidad de Exceder la Capacidad del Camión\n",
        "\n",
        "Del análisis anterior, sabemos que la probabilidad de que el peso total de las 5 tinas exceda 1000 kg es aproximadamente 99.7\\%.\n",
        "\n",
        "### Paso 2: Calcular el Costo Anual Esperado de Continuar con el Camión Actual}\n",
        "\n",
        "Primero, determinamos cuántos días se trabaja al año:\n",
        "\n",
        "$$\n",
        "5 \\text{ días/semana} \\times 52 \\text{ semanas/año} = 260 \\text{ días/año}\n",
        "$$\n",
        "\n",
        "La probabilidad de exceder la capacidad del camión en un día es 0.9970 (99.7\\%).\n",
        "\n",
        "El costo en un día en que se excede la capacidad es \\$200. Por lo tanto, el costo diario esperado de exceder la capacidad del camión es:\n",
        "\n",
        "$$\n",
        "\\text{Costo diario esperado} = 0.9970 \\times 200 = 199.4 \\text{ dólares/día}\n",
        "$$\n",
        "\n",
        "Ahora, el costo anual esperado de continuar con el camión actual es:\n",
        "\n",
        "$$\n",
        "\\text{Costo anual esperado} =  199.4 \\text{ dólares/día} \\times 260 \\text{ días/año} = 51,844 \\text{ dólares/año}\n",
        "$$\n",
        "\n",
        "Al comparar los Costos\n",
        "\n",
        "\n",
        "* $\\textbf{Costo de continuar con el camión actual}: \\$51,844/año$\n",
        "* $\\textbf{Costo de adquirir un nuevo camión}: \\$60,000/año$\n",
        "\n",
        "\n",
        "\n",
        "Es mucho más económico continuar con el camión actual y pagar \\$200 cada vez que se excede la capacidad que adquirir un nuevo camión.\n",
        "\n",
        "Por lo tanto, $\\textbf{la alternativa más atractiva es continuar con el camión actual}$.\n",
        "\n",
        "\n",
        "\n",
        "\n",
        "\n",
        "\n",
        "\n",
        "\n",
        "\n",
        "\n",
        "\n",
        "\n",
        "\n",
        "   * b) Resolver por simulación."
      ],
      "metadata": {
        "id": "tXBNCUAVgRCs"
      }
    },
    {
      "cell_type": "markdown",
      "source": [
        "Retomando el programa anterior contamos el numero de veces que la suma de las 5 tinas es menor o igual a la capacidad del camion y se la restamos al número total de dias al año, es decir, 260.\n",
        "Al resultado anterior lo multiplicamos por el costo de transporte (\\$ 200 ).\n",
        "\n",
        "#### Pseudocódigo\n",
        "\n",
        "* Hacer :\n",
        "  cont=0\n",
        "\n",
        "* Para i desde el dia 1 hasta 260 (días hábiles)\n",
        "  \n",
        "  $x \\sim triangular(190,210,230)$\n",
        "* Si x <=Capacidad del camión:\n",
        "  cont=cont+1\n",
        "\n",
        "* Hacer:\n",
        "  \n",
        "  k=n-cont\n",
        "\n",
        "* Hacer:\n",
        "   \n",
        "  cost=k*260\n",
        "  \n",
        "* Regresar cost"
      ],
      "metadata": {
        "id": "ySwaH-gAgXOq"
      }
    },
    {
      "cell_type": "code",
      "source": [
        "def tinas1(capacidad,n,a,b,c):\n",
        "\n",
        "  cont=0\n",
        "  k=0\n",
        "\n",
        "  for i in range(n):\n",
        "    x=distriangular(a,b,c,5)\n",
        "    g=sum(x)\n",
        "    #print(g)\n",
        "    if g<=capacidad:\n",
        "      cont=+1\n",
        "\n",
        "  k=n-cont\n",
        "  cost=k*200\n",
        "\n",
        "  return  cost"
      ],
      "metadata": {
        "id": "XuGoJfdHgX_0"
      },
      "execution_count": 7,
      "outputs": []
    },
    {
      "cell_type": "code",
      "source": [
        "h=tinas1(1000,260,190,210,230)\n",
        "print(\"Es costo anual por transportar otra tina es:\", h)"
      ],
      "metadata": {
        "colab": {
          "base_uri": "https://localhost:8080/"
        },
        "id": "xUrKDIy1gbfK",
        "outputId": "602cdf34-e6df-49fb-f7a1-d8cb41c9184b"
      },
      "execution_count": 8,
      "outputs": [
        {
          "output_type": "stream",
          "name": "stdout",
          "text": [
            "Es costo anual por transportar otra tina es: 51800\n"
          ]
        }
      ]
    },
    {
      "cell_type": "code",
      "source": [],
      "metadata": {
        "id": "hw6h3RcbgdlA"
      },
      "execution_count": null,
      "outputs": []
    }
  ]
}