{
  "nbformat": 4,
  "nbformat_minor": 0,
  "metadata": {
    "colab": {
      "provenance": [],
      "authorship_tag": "ABX9TyPG3bcu2ZCupXdFeTxjgM6l",
      "include_colab_link": true
    },
    "kernelspec": {
      "name": "python3",
      "display_name": "Python 3"
    },
    "language_info": {
      "name": "python"
    }
  },
  "cells": [
    {
      "cell_type": "markdown",
      "metadata": {
        "id": "view-in-github",
        "colab_type": "text"
      },
      "source": [
        "<a href=\"https://colab.research.google.com/github/Zarate73/Simulaci-n-/blob/main/Congruencia.ipynb\" target=\"_parent\"><img src=\"https://colab.research.google.com/assets/colab-badge.svg\" alt=\"Open In Colab\"/></a>"
      ]
    },
    {
      "cell_type": "code",
      "source": [
        "\n",
        "import numpy as np\n",
        "from tabulate import tabulate\n",
        "\n",
        "#Metodo de congruencia (Generacion de numeros aleatorios)\n",
        "x0=6\n",
        "m=28\n",
        "a=5\n",
        "c=5\n",
        "n=20\n",
        "k=[None]* n\n",
        "\n",
        "\n",
        "\n",
        "\n",
        "xn=x0\n",
        "for i in range(n):\n",
        "\n",
        "  g=a*xn + c\n",
        "  mod=g % m\n",
        "  xn=mod\n",
        "  print(xn)\n",
        "  XR=xn/m\n",
        "  k[i]=XR\n",
        "  if float(XR[i-1])==float(XR[i]):\n",
        "    break;\n",
        "\n",
        "\n",
        "\n",
        "\n",
        "k = np.array(k)\n",
        "p=k.T\n",
        "print(p)\n",
        "\n",
        "for i in range(n):\n",
        "  xi=k;\n",
        "  if xi[i]==xi[0]:\n",
        "    print({i})\n",
        "    break\n",
        "\n",
        "  else:\n",
        "    p=k.T\n",
        "    print(p)\n",
        "\n",
        "\n",
        "# Crear un vector multidimensional\n",
        "v = [[1, 2], [3, 4], [5, 6]]\n",
        "\n",
        "# Poner el vector en una tabla con 2 columnas\n",
        "print(tabulate(v, tablefmt=\"grid\", headers=[\"Columna 1\", \"Columna 2\"], colalign=(\"center\", \"center\")))\n",
        "\n",
        "\n",
        "\n",
        "#NOTA: se cicla en el 16 con los valores de m=16, x0=6, a=5, c=5\n",
        "#      con a=50; te dan los valores del 4->n se repiten\n",
        "\n",
        "#Se cicla cuando el Xi = a la semilla\n"
      ],
      "metadata": {
        "colab": {
          "base_uri": "https://localhost:8080/",
          "height": 228
        },
        "id": "pSj4LTDv6UPJ",
        "outputId": "45b90cab-e8de-42b1-9c85-b7ec265ac510"
      },
      "execution_count": null,
      "outputs": [
        {
          "output_type": "stream",
          "name": "stdout",
          "text": [
            "7\n"
          ]
        },
        {
          "output_type": "error",
          "ename": "TypeError",
          "evalue": "'float' object is not subscriptable",
          "traceback": [
            "\u001b[0;31m---------------------------------------------------------------------------\u001b[0m",
            "\u001b[0;31mTypeError\u001b[0m                                 Traceback (most recent call last)",
            "\u001b[0;32m<ipython-input-22-11cdfe30af84>\u001b[0m in \u001b[0;36m<cell line: 15>\u001b[0;34m()\u001b[0m\n\u001b[1;32m     21\u001b[0m   \u001b[0mXR\u001b[0m\u001b[0;34m=\u001b[0m\u001b[0mxn\u001b[0m\u001b[0;34m/\u001b[0m\u001b[0mm\u001b[0m\u001b[0;34m\u001b[0m\u001b[0;34m\u001b[0m\u001b[0m\n\u001b[1;32m     22\u001b[0m   \u001b[0mk\u001b[0m\u001b[0;34m[\u001b[0m\u001b[0mi\u001b[0m\u001b[0;34m]\u001b[0m\u001b[0;34m=\u001b[0m\u001b[0mXR\u001b[0m\u001b[0;34m\u001b[0m\u001b[0;34m\u001b[0m\u001b[0m\n\u001b[0;32m---> 23\u001b[0;31m   \u001b[0;32mif\u001b[0m \u001b[0mfloat\u001b[0m\u001b[0;34m(\u001b[0m\u001b[0mXR\u001b[0m\u001b[0;34m[\u001b[0m\u001b[0mi\u001b[0m\u001b[0;34m-\u001b[0m\u001b[0;36m1\u001b[0m\u001b[0;34m]\u001b[0m\u001b[0;34m)\u001b[0m\u001b[0;34m==\u001b[0m\u001b[0mfloat\u001b[0m\u001b[0;34m(\u001b[0m\u001b[0mXR\u001b[0m\u001b[0;34m[\u001b[0m\u001b[0mi\u001b[0m\u001b[0;34m]\u001b[0m\u001b[0;34m)\u001b[0m\u001b[0;34m:\u001b[0m\u001b[0;34m\u001b[0m\u001b[0;34m\u001b[0m\u001b[0m\n\u001b[0m\u001b[1;32m     24\u001b[0m     \u001b[0;32mbreak\u001b[0m\u001b[0;34m;\u001b[0m\u001b[0;34m\u001b[0m\u001b[0;34m\u001b[0m\u001b[0m\n\u001b[1;32m     25\u001b[0m \u001b[0;34m\u001b[0m\u001b[0m\n",
            "\u001b[0;31mTypeError\u001b[0m: 'float' object is not subscriptable"
          ]
        }
      ]
    },
    {
      "cell_type": "code",
      "source": [
        "mport numpy as np\n",
        "from tabulate import tabulate\n",
        "\n",
        "#Metodo de congruencia (Generacion de numeros aleatorios)\n",
        "x0=6\n",
        "S=6#Semilla\n",
        "m=28\n",
        "a=5\n",
        "c=5\n",
        "n=20\n",
        "k=[None]* n\n",
        "T=[None]*n\n",
        "G=[None]*n\n",
        "t=[1:n]\n",
        "\n",
        "\n",
        "\n",
        "\n",
        "\n",
        "\n",
        "\n",
        "xn=x0\n",
        "for i in range(n):\n",
        "\n",
        "  g=a*xn + c #Operacion\n",
        "  G[i]=g\n",
        "  mod=g % m #residuo y el siguiente Xn\n",
        "  xn=mod\n",
        "  T[i] = xn #Lista de numeros para trabajar\n",
        "  print(xn)\n",
        "  XR=xn/m #Asi estaran distribuidos Uniformemente entre 0 y 1\n",
        "  k[i]=XR #Lista\n",
        "\n",
        "  if T[i] == S:\n",
        "    k=np.array(k)\n",
        "    T=np.array(T)\n",
        "    G=np.array(G)\n",
        "\n",
        "    H=[[t],[T],[G],[k]]\n",
        "    print(tabulate(v,tablefmt=\"grid\",headers=[\"n\",\"aXn+C\",\"aXn+C(mod m)\",\"(aXn+C mod m)/m\"],colaling=(\"center\",\"center\",\"center\",\"center\",\"center\")))\n",
        "\n",
        "\n",
        "\n"
      ],
      "metadata": {
        "id": "CburZq67Aw9y",
        "colab": {
          "base_uri": "https://localhost:8080/"
        },
        "outputId": "6cb530b2-587b-4215-fb04-f055dafc895a"
      },
      "execution_count": 23,
      "outputs": [
        {
          "output_type": "error",
          "ename": "SyntaxError",
          "evalue": "invalid syntax (<ipython-input-23-8a7d5b345b18>, line 1)",
          "traceback": [
            "\u001b[0;36m  File \u001b[0;32m\"<ipython-input-23-8a7d5b345b18>\"\u001b[0;36m, line \u001b[0;32m1\u001b[0m\n\u001b[0;31m    mport numpy as np\u001b[0m\n\u001b[0m          ^\u001b[0m\n\u001b[0;31mSyntaxError\u001b[0m\u001b[0;31m:\u001b[0m invalid syntax\n"
          ]
        }
      ]
    }
  ]
}