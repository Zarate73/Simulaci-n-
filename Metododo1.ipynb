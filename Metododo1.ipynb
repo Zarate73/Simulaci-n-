{
  "nbformat": 4,
  "nbformat_minor": 0,
  "metadata": {
    "colab": {
      "provenance": [],
      "authorship_tag": "ABX9TyPQ2ZHqYVNUGudJ6n9z3S67",
      "include_colab_link": true
    },
    "kernelspec": {
      "name": "python3",
      "display_name": "Python 3"
    },
    "language_info": {
      "name": "python"
    }
  },
  "cells": [
    {
      "cell_type": "markdown",
      "metadata": {
        "id": "view-in-github",
        "colab_type": "text"
      },
      "source": [
        "<a href=\"https://colab.research.google.com/github/Zarate73/Simulaci-n-/blob/main/Metododo1.ipynb\" target=\"_parent\"><img src=\"https://colab.research.google.com/assets/colab-badge.svg\" alt=\"Open In Colab\"/></a>"
      ]
    },
    {
      "cell_type": "markdown",
      "source": [
        "# Metodo del cuadrado medio\n",
        "\n",
        "Este método es uno de los mas sencillo para la generacion de números pseudo aleatorios el cual funciona de la siguiente manera:\n",
        "\n",
        "* Se elige como valor semilla un número de más de 3 dígitos (t=cantidad de dígitos del valor semilla)\n",
        "* Se eleva ese número al cuadrado.\n",
        "* Al valor que resultó, seleccione los t dígitos de en medio (si se requiere, utilice un 0 como primer dígito).\n",
        "* Repetir desde el paso número 2 tomando éste nuevo número.\n",
        "\n",
        "  A continuación se muestra la implementación en phyton del método.\n",
        "  "
      ],
      "metadata": {
        "id": "GZ8DR6W4eeC8"
      }
    },
    {
      "cell_type": "code",
      "execution_count": 1,
      "metadata": {
        "id": "-4rOrHUP3q0d"
      },
      "outputs": [],
      "source": [
        "import pandas as pd\n",
        "\n",
        "def cuad_medio(x0, max_iter):\n",
        "    i = 0\n",
        "    S = x0\n",
        "    X = []\n",
        "    N = []\n",
        "    Xcuad = []\n",
        "\n",
        "    n = len(str(x0))\n",
        "\n",
        "    while i <= max_iter:\n",
        "        i += 1\n",
        "        N.append(i)\n",
        "\n",
        "        x = x0 ** 2\n",
        "        Xcuad.append(x)\n",
        "\n",
        "        x_str = str(x)\n",
        "        x_str_length = len(x_str)\n",
        "\n",
        "        if x_str_length < n * 2:\n",
        "            x = x_str.zfill(n * 2)\n",
        "\n",
        "        start_index = (x_str_length - n) // 2\n",
        "        end_index = start_index + n\n",
        "        x_central_digits = x_str[start_index:end_index]\n",
        "\n",
        "        x0 = int(x_central_digits)\n",
        "        X.append(x0)\n",
        "\n",
        "        if X[i - 1] == S:\n",
        "            break\n",
        "\n",
        "    H = list(zip(N, X, Xcuad))\n",
        "    table = pd.DataFrame(H, columns=[\"n\", \"X\", \"X^2\"])\n",
        "\n",
        "    unique_X = list(set(X))\n",
        "    G = list(range(1, len(unique_X) + 1))\n",
        "\n",
        "    C = pd.DataFrame(list(zip(G, unique_X)), columns=[\"n\", \"X\"])\n",
        "\n",
        "    return table, C\n",
        "\n",
        "\n",
        "\n",
        "\n",
        "\n"
      ]
    },
    {
      "cell_type": "code",
      "source": [
        "# Ejemplo de uso\n",
        "x0 = 2040\n",
        "max_iter = 100\n",
        "\n",
        "Table, C = cuad_medio(x0, max_iter)\n",
        "print(\"Tabla de números generados:\")\n",
        "print(Table)\n",
        "print(\"\\nVector con números únicos:\")\n",
        "print(C)"
      ],
      "metadata": {
        "id": "elw21uJRezHJ",
        "outputId": "b1d92b8e-e1bd-4e91-b7bf-8c0bb58445d8",
        "colab": {
          "base_uri": "https://localhost:8080/"
        }
      },
      "execution_count": 2,
      "outputs": [
        {
          "output_type": "stream",
          "name": "stdout",
          "text": [
            "Tabla de números generados:\n",
            "       n     X       X^2\n",
            "0      1  1616   4161600\n",
            "1      2  6114   2611456\n",
            "2      3  3809  37380996\n",
            "3      4  5084  14508481\n",
            "4      5  8470  25847056\n",
            "..   ...   ...       ...\n",
            "96    97  8100  16810000\n",
            "97    98  6100  65610000\n",
            "98    99  2100  37210000\n",
            "99   100  4100   4410000\n",
            "100  101  8100  16810000\n",
            "\n",
            "[101 rows x 3 columns]\n",
            "\n",
            "Vector con números únicos:\n",
            "     n     X\n",
            "0    1  2560\n",
            "1    2  1665\n",
            "2    3  8962\n",
            "3    4  5892\n",
            "4    5  9605\n",
            "..  ..   ...\n",
            "59  60  4986\n",
            "60  61  3452\n",
            "61  62  1405\n",
            "62  63  7806\n",
            "63  64  5631\n",
            "\n",
            "[64 rows x 2 columns]\n"
          ]
        }
      ]
    }
  ]
}