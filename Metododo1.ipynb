{
  "nbformat": 4,
  "nbformat_minor": 0,
  "metadata": {
    "colab": {
      "provenance": [],
      "authorship_tag": "ABX9TyOCyzrqf7oCCA34WqnwKOSE",
      "include_colab_link": true
    },
    "kernelspec": {
      "name": "python3",
      "display_name": "Python 3"
    },
    "language_info": {
      "name": "python"
    }
  },
  "cells": [
    {
      "cell_type": "markdown",
      "metadata": {
        "id": "view-in-github",
        "colab_type": "text"
      },
      "source": [
        "<a href=\"https://colab.research.google.com/github/Zarate73/Simulaci-n-/blob/main/Metododo1.ipynb\" target=\"_parent\"><img src=\"https://colab.research.google.com/assets/colab-badge.svg\" alt=\"Open In Colab\"/></a>"
      ]
    },
    {
      "cell_type": "code",
      "source": [
        "import math\n",
        "xi=2124\n",
        "j=2\n",
        "h=[]\n",
        "\n",
        "for i in range(0,5):\n",
        "\n",
        "  x_i=xi^2\n",
        "  largo = int( math.log10(xi) ) + 1\n",
        "\n",
        "  if largo%2==0:\n",
        "\n",
        "    number_as_string = str(x_i)\n",
        "    start_index = len(x_i) - 2\n",
        "    end_index = len(x_i)\n",
        "    extracted_digits = number_as_string[start_index:end_index]\n",
        "    n1=int(extracted_digits)\n",
        "\n",
        "\n",
        "    n_1=str(n1)\n",
        "    n_1[0:5]\n",
        "    n2=int(n_1)\n",
        "\n",
        "    h[n_2]\n",
        "\n",
        "    else:\n",
        "\n",
        "\n",
        "\n",
        "\n",
        "\n",
        "\n",
        "\n",
        "\n",
        "\n",
        "\n",
        "\n",
        "\n",
        "\n",
        "\n",
        "\n",
        "\n",
        "\n",
        "\n",
        "\n"
      ],
      "metadata": {
        "id": "q3oNAWmO3yQw"
      },
      "execution_count": 39,
      "outputs": []
    },
    {
      "cell_type": "code",
      "execution_count": 69,
      "metadata": {
        "id": "-4rOrHUP3q0d"
      },
      "outputs": [],
      "source": [
        "\n",
        "number = 12355\n",
        "number_as_string = str(number)\n",
        "start_index = len(number_as_string)\n",
        "end_index = len(number_as_string) - 2\n",
        "extracted_digits = number_as_string[start_index:end_index:]\n",
        "\n",
        "\n",
        "\n",
        "\n"
      ]
    },
    {
      "cell_type": "code",
      "source": [
        "number = 12355\n",
        "number_as_string = str(number)\n",
        "print(number_as_string[0:5])"
      ],
      "metadata": {
        "colab": {
          "base_uri": "https://localhost:8080/"
        },
        "id": "WjpGLZlCDuh4",
        "outputId": "31abea8c-ea7d-446a-a126-a75fda76b498"
      },
      "execution_count": 76,
      "outputs": [
        {
          "output_type": "stream",
          "name": "stdout",
          "text": [
            "12355\n"
          ]
        }
      ]
    }
  ]
}