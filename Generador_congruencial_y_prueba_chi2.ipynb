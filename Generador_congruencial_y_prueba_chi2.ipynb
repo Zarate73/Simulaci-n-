{
  "cells": [
    {
      "cell_type": "markdown",
      "metadata": {
        "id": "view-in-github",
        "colab_type": "text"
      },
      "source": [
        "<a href=\"https://colab.research.google.com/github/Zarate73/Simulaci-n-/blob/main/Generador_congruencial_y_prueba_chi2.ipynb\" target=\"_parent\"><img src=\"https://colab.research.google.com/assets/colab-badge.svg\" alt=\"Open In Colab\"/></a>"
      ]
    },
    {
      "cell_type": "code",
      "source": [
        "!pip install pandas\n",
        "!pip install numpy\n",
        "!pip install scipy\n",
        "\n",
        "import pandas as pd\n",
        "import numpy as np\n",
        "from scipy.stats import chi2_contingency\n",
        "\n",
        "def congruencia(S, a, c, m, n, cl):\n",
        "    XN = []\n",
        "    XNM = []\n",
        "    N = []\n",
        "    G = []\n",
        "    B = []\n",
        "    Chi = []\n",
        "    h = 1/cl\n",
        "    clases = np.arange(0, 1+h, h)\n",
        "    F = np.zeros(cl)\n",
        "    j = 0\n",
        "    K = 1\n",
        "    y = 0\n",
        "    xn = S\n",
        "\n",
        "    for i in range(1, n+1):\n",
        "        y = y + 1\n",
        "        O1 = a * xn + c\n",
        "        G.append(O1)\n",
        "        xn = O1 % m\n",
        "        XN.append(xn)\n",
        "        xnm = xn / m\n",
        "        XNM.append(xnm)\n",
        "        N.append(y)\n",
        "\n",
        "        if XN[-1] == S:\n",
        "            break\n",
        "\n",
        "    data = np.column_stack((N, G, XN, XNM))\n",
        "    T_Table = pd.DataFrame(data, columns=[\"n\", \"aXn + c\", \"(a*xn + c)mod(m)\", \"(a*xn + c)mod(m)/m\"])\n",
        "\n",
        "    F_e = (len(XNM) / cl) * np.ones(cl)\n",
        "    for i in range(len(clases)-1):\n",
        "        F[i] = np.sum(np.logical_and(XNM >= clases[i], XNM < clases[i+1]))\n",
        "        B.append(F[i] - F_e[i])\n",
        "        Chi.append((B[i]**2) / F_e[i])\n",
        "\n",
        "    U = np.column_stack((F, F_e, B, Chi))\n",
        "    T_Frecuencias = pd.DataFrame(U, columns=[\"Frecuencia\", \"Frecuencia esperada\", \"(F-Fe)\", \"Chi\"],\n",
        "                                 index=[\"0<= xn <0.2\", \"0.2<= x <0. 4\", \"0.4<= x <0. 6\", \"0.6<= x <0. 8\", \"0.8<= x <1\"])\n",
        "\n",
        "    chi2_stat, p = chi2_contingency(np.array([F, F_e]))[0:2]\n",
        "\n",
        "    return T_Table, T_Frecuencias, chi2_stat, p\n",
        "\n",
        "# Ejemplo de uso\n",
        "T_Table, T_Frecuencias, chi2_stat, p = congruencia(17,1,121,256,270,5)\n",
        "print(T_Table)\n",
        "print(T_Frecuencias)\n",
        "print(\"Chi-square test statistic:\", chi2_stat)\n",
        "print(\"p-value:\", p)"
      ],
      "metadata": {
        "colab": {
          "base_uri": "https://localhost:8080/"
        },
        "id": "LQ5lLsZ4DzTQ",
        "outputId": "cba94a99-84e1-4617-f3e2-38a3cf7c87d4"
      },
      "execution_count": 15,
      "outputs": [
        {
          "output_type": "stream",
          "name": "stdout",
          "text": [
            "Requirement already satisfied: pandas in /usr/local/lib/python3.10/dist-packages (1.5.3)\n",
            "Requirement already satisfied: python-dateutil>=2.8.1 in /usr/local/lib/python3.10/dist-packages (from pandas) (2.8.2)\n",
            "Requirement already satisfied: pytz>=2020.1 in /usr/local/lib/python3.10/dist-packages (from pandas) (2023.4)\n",
            "Requirement already satisfied: numpy>=1.21.0 in /usr/local/lib/python3.10/dist-packages (from pandas) (1.25.2)\n",
            "Requirement already satisfied: six>=1.5 in /usr/local/lib/python3.10/dist-packages (from python-dateutil>=2.8.1->pandas) (1.16.0)\n",
            "Requirement already satisfied: numpy in /usr/local/lib/python3.10/dist-packages (1.25.2)\n",
            "Requirement already satisfied: scipy in /usr/local/lib/python3.10/dist-packages (1.11.4)\n",
            "Requirement already satisfied: numpy<1.28.0,>=1.21.6 in /usr/local/lib/python3.10/dist-packages (from scipy) (1.25.2)\n",
            "         n  aXn + c  (a*xn + c)mod(m)  (a*xn + c)mod(m)/m\n",
            "0      1.0    138.0             138.0            0.539062\n",
            "1      2.0    259.0               3.0            0.011719\n",
            "2      3.0    124.0             124.0            0.484375\n",
            "3      4.0    245.0             245.0            0.957031\n",
            "4      5.0    366.0             110.0            0.429688\n",
            "..     ...      ...               ...                 ...\n",
            "251  252.0    301.0              45.0            0.175781\n",
            "252  253.0    166.0             166.0            0.648438\n",
            "253  254.0    287.0              31.0            0.121094\n",
            "254  255.0    152.0             152.0            0.593750\n",
            "255  256.0    273.0              17.0            0.066406\n",
            "\n",
            "[256 rows x 4 columns]\n",
            "               Frecuencia  Frecuencia esperada  (F-Fe)       Chi\n",
            "0<= xn <0.2          52.0                 51.2     0.8  0.012500\n",
            "0.2<= x <0. 4        51.0                 51.2    -0.2  0.000781\n",
            "0.4<= x <0. 6        51.0                 51.2    -0.2  0.000781\n",
            "0.6<= x <0. 8        51.0                 51.2    -0.2  0.000781\n",
            "0.8<= x <1           51.0                 51.2    -0.2  0.000781\n",
            "Chi-square test statistic: 0.007767108117538191\n",
            "p-value: 0.999992478499443\n"
          ]
        }
      ]
    }
  ],
  "metadata": {
    "colab": {
      "provenance": [],
      "authorship_tag": "ABX9TyPCUvVWxTbMX0fAeyrUAkv9",
      "include_colab_link": true
    },
    "kernelspec": {
      "display_name": "Python 3",
      "name": "python3"
    },
    "language_info": {
      "name": "python"
    }
  },
  "nbformat": 4,
  "nbformat_minor": 0
}